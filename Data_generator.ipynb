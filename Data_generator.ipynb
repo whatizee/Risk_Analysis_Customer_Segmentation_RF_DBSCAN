{
 "cells": [
  {
   "cell_type": "code",
   "execution_count": 8,
   "metadata": {},
   "outputs": [],
   "source": [
    "import pandas as pd\n",
    "import numpy as np\n",
    "\n",
    "# Set random seed for reproducibility\n",
    "np.random.seed(42)\n",
    "\n",
    "# Generate synthetic data\n",
    "n_rows = 8976\n",
    "\n",
    "data = {\n",
    "    'Age': np.random.randint(18, 70, n_rows),\n",
    "    'Gender': np.random.choice(['Male', 'Female'], n_rows),\n",
    "    'Occupation': np.random.choice(['Engineer', 'Doctor', 'Teacher', 'Driver', 'Student'], n_rows),\n",
    "    'Years_Driving': np.random.randint(1, 50, n_rows),\n",
    "    'Annual_Mileage': np.random.randint(1000, 30000, n_rows),\n",
    "    'Claims_Frequency': np.random.poisson(0.5, n_rows),\n",
    "    'Claim_Severity': np.random.exponential(1000, n_rows),\n",
    "    'Traffic_Violations': np.random.poisson(1, n_rows),\n",
    "    'Vehicle_Age': np.random.randint(1, 20, n_rows),\n",
    "    'Vehicle_Type': np.random.choice(['Sedan', 'SUV', 'Truck', 'Motorcycle'], n_rows),\n",
    "    'Location': np.random.choice(['Urban', 'Rural'], n_rows),\n",
    "    'Risk_Level': np.random.choice(['Low', 'Moderate', 'High', 'Very High'], n_rows, p=[0.6, 0.3, 0.08, 0.02])\n",
    "}\n",
    "\n",
    "# Create DataFrame\n",
    "df = pd.DataFrame(data)\n",
    "\n",
    "# Save to CSV\n",
    "df.to_csv('motor_insurance_data.csv', index=False)"
   ]
  },
  {
   "cell_type": "code",
   "execution_count": null,
   "metadata": {},
   "outputs": [],
   "source": []
  }
 ],
 "metadata": {
  "kernelspec": {
   "display_name": "Sebutti",
   "language": "python",
   "name": "python3"
  },
  "language_info": {
   "codemirror_mode": {
    "name": "ipython",
    "version": 3
   },
   "file_extension": ".py",
   "mimetype": "text/x-python",
   "name": "python",
   "nbconvert_exporter": "python",
   "pygments_lexer": "ipython3",
   "version": "3.11.8"
  }
 },
 "nbformat": 4,
 "nbformat_minor": 2
}
